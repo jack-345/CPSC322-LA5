{
 "cells": [
  {
   "cell_type": "markdown",
   "id": "eec0046c",
   "metadata": {},
   "source": [
    "MA5 Notebook Lab - Jack Ou"
   ]
  },
  {
   "cell_type": "markdown",
   "id": "584f25cb",
   "metadata": {},
   "source": [
    "Task 1\n",
    "\n",
    "$log_{2}(a * b) = log_{2}(a) + log_{2}(b)$\n",
    "\n",
    "$log_{2}(a/b) = log_{2}(a) - log_{2}(b)$\n",
    "\n",
    "$log_{2}(a^n) = n * log_{2}(a)$\n",
    "\n",
    "$log_{2}(1/a) = -log_{2}(a)$\n",
    "\n",
    "Source: [Principles of Data Mining, Third Edition - Max Bramer](https://www.amazon.com/Principles-Mining-Undergraduate-Computer-Science-ebook/dp/B0DF43PTN4)"
   ]
  },
  {
   "cell_type": "markdown",
   "id": "b3fdcfe4",
   "metadata": {},
   "source": [
    "Task 2\n",
    "\n",
    "$\\frac{a_{1} + a_{2} + ... + a_{n}}{n}$"
   ]
  },
  {
   "cell_type": "code",
   "execution_count": null,
   "id": "30f6af68",
   "metadata": {
    "vscode": {
     "languageId": "plaintext"
    }
   },
   "outputs": [],
   "source": [
    "import random\n",
    "\n",
    "def mean(list):\n",
    "    \n",
    "    return \n",
    "\n",
    "list1 = []\n",
    "list2 = []\n",
    "\n",
    "for i in range(100):\n",
    "    list1[i] = random.random()\n",
    "    list2[i] = random.random()\n",
    "\n",
    "mean(list1)\n",
    "print(list1)\n",
    "mean(list2)\n",
    "print(list2)"
   ]
  }
 ],
 "metadata": {
  "kernelspec": {
   "display_name": "",
   "name": ""
  },
  "language_info": {
   "name": ""
  }
 },
 "nbformat": 4,
 "nbformat_minor": 5
}
