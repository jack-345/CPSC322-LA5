{
 "cells": [
  {
   "cell_type": "markdown",
   "id": "eec0046c",
   "metadata": {},
   "source": [
    "MA5 Notebook Lab - Jack Ou"
   ]
  },
  {
   "cell_type": "markdown",
   "id": "584f25cb",
   "metadata": {},
   "source": [
    "Task 1\n",
    "\n",
    "$log_{2}(a * b) = log_{2}(a) + log_{2}(b)$\n",
    "\n",
    "$log_{2}(a/b) = log_{2}(a) - log_{2}(b)$\n",
    "\n",
    "$log_{2}(a^n) = n * log_{2}(a)$\n",
    "\n",
    "$log_{2}(1/a) = -log_{2}(a)$\n",
    "\n",
    "Source: [Principles of Data Mining, Third Edition - Max Bramer](https://www.amazon.com/Principles-Mining-Undergraduate-Computer-Science-ebook/dp/B0DF43PTN4)"
   ]
  }
 ],
 "metadata": {
  "kernelspec": {
   "display_name": "",
   "name": ""
  },
  "language_info": {
   "name": ""
  }
 },
 "nbformat": 4,
 "nbformat_minor": 5
}
